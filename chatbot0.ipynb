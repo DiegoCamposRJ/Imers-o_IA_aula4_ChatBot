{
  "nbformat": 4,
  "nbformat_minor": 0,
  "metadata": {
    "colab": {
      "provenance": [],
      "authorship_tag": "ABX9TyO3SRY9D7mrMcoEFoWUFO4V",
      "include_colab_link": true
    },
    "kernelspec": {
      "name": "python3",
      "display_name": "Python 3"
    },
    "language_info": {
      "name": "python"
    }
  },
  "cells": [
    {
      "cell_type": "markdown",
      "metadata": {
        "id": "view-in-github",
        "colab_type": "text"
      },
      "source": [
        "<a href=\"https://colab.research.google.com/github/DiegoCamposRJ/Imersao_IA_aula4_ChatBot/blob/main/chatbot0.ipynb\" target=\"_parent\"><img src=\"https://colab.research.google.com/assets/colab-badge.svg\" alt=\"Open In Colab\"/></a>"
      ]
    },
    {
      "cell_type": "code",
      "execution_count": null,
      "metadata": {
        "id": "lHnx8M0l9xfs"
      },
      "outputs": [],
      "source": [
        "!pip install -q -U google-generativeai"
      ]
    },
    {
      "cell_type": "code",
      "source": [
        "import google.generativeai as genai\n",
        "\n",
        "from google.colab import userdata\n",
        "api_key = userdata.get('chave_secreta')\n",
        "\n",
        "genai.configure(api_key=api_key)"
      ],
      "metadata": {
        "id": "CyQUJEa4ATqV"
      },
      "execution_count": null,
      "outputs": []
    },
    {
      "cell_type": "code",
      "source": [
        "model = genai.GenerativeModel('gemini-pro')"
      ],
      "metadata": {
        "id": "ghQwTD4PBFPM"
      },
      "execution_count": null,
      "outputs": []
    },
    {
      "cell_type": "markdown",
      "source": [
        "# **Primeiro Exemplo de como gerar seu prompt**"
      ],
      "metadata": {
        "id": "hyE9GeRPCuMQ"
      }
    },
    {
      "cell_type": "code",
      "source": [
        "response = model.generate_content('Vamos aprender conteúdo sobre IA. me de  sugestões.')\n",
        "print(response.text)"
      ],
      "metadata": {
        "colab": {
          "base_uri": "https://localhost:8080/",
          "height": 833
        },
        "id": "Ff2g93y0Bdy0",
        "outputId": "4daf19dd-f65b-4435-b9bf-60e878a4b201"
      },
      "execution_count": null,
      "outputs": [
        {
          "output_type": "stream",
          "name": "stdout",
          "text": [
            "**Introdução à IA**\n",
            "\n",
            "* Definição e histórico da IA\n",
            "* Tipos de IA: aprendizado de máquina, aprendizado profundo, aprendizado por reforço\n",
            "* Aplicações da IA em vários setores\n",
            "\n",
            "**Aprendizado de Máquina**\n",
            "\n",
            "* Conceitos básicos: algoritmos supervisionados e não supervisionados\n",
            "* Algoritmos de aprendizado de máquina comuns: regressão linear, árvores de decisão, redes neurais\n",
            "* Avaliação do desempenho do aprendizado de máquina\n",
            "\n",
            "**Aprendizado Profundo**\n",
            "\n",
            "* Introdução ao aprendizado profundo\n",
            "* Arquiteturas de rede neural: CNNs, RNNs, Transformers\n",
            "* Treinamento e avaliação de redes neurais\n",
            "\n",
            "**Aprendizado por Reforço**\n",
            "\n",
            "* Conceitos básicos do aprendizado por reforço\n",
            "* Algoritmos de aprendizado por reforço: Q-learning, SARSA\n",
            "* Aplicações do aprendizado por reforço em jogos e robótica\n",
            "\n",
            "**Ética e Implicações Sociais da IA**\n",
            "\n",
            "* Bias e discriminação na IA\n",
            "* Implicações da IA no mercado de trabalho\n",
            "* Regulamentações e políticas éticas para IA\n",
            "\n",
            "**Ferramentas e Bibliotecas de IA**\n",
            "\n",
            "* Linguagens de programação para IA: Python, R\n",
            "* Bibliotecas de IA: TensorFlow, PyTorch, Keras\n",
            "* Ferramentas de desenvolvimento de IA: Jupyter Notebooks, Google Colab\n",
            "\n",
            "**Aplicações Setoriais da IA**\n",
            "\n",
            "* IA em saúde: diagnóstico, tratamento e pesquisa\n",
            "* IA em finanças: negociação algorítmica, gerenciamento de risco\n",
            "* IA em transporte: veículos autônomos, gerenciamento de tráfego\n",
            "\n",
            "**Tendências e Pesquisas de Ponta em IA**\n",
            "\n",
            "* IA generativa: geração de imagens, texto e música\n",
            "* Aprendizado de máquina interpretável: compreensão das decisões da IA\n",
            "* IA quântica: aproveitando a computação quântica para aprimorar a IA\n"
          ]
        }
      ]
    },
    {
      "cell_type": "markdown",
      "source": [
        "#      Listar os Modelos disponiveis"
      ],
      "metadata": {
        "id": "FCREiCl-DeHW"
      }
    },
    {
      "cell_type": "code",
      "source": [
        "#Listando os modelos disponíveis\n",
        "for m in genai.list_models():\n",
        "  if 'generateContent' in m.supported_generation_methods:\n",
        "    print(m.name)"
      ],
      "metadata": {
        "colab": {
          "base_uri": "https://localhost:8080/",
          "height": 139
        },
        "id": "gtORVW7CCkbf",
        "outputId": "c5fb7e30-f4b3-4ecf-b2ef-5cdadfa8dfa5"
      },
      "execution_count": null,
      "outputs": [
        {
          "output_type": "stream",
          "name": "stdout",
          "text": [
            "models/gemini-1.0-pro\n",
            "models/gemini-1.0-pro-001\n",
            "models/gemini-1.0-pro-latest\n",
            "models/gemini-1.0-pro-vision-latest\n",
            "models/gemini-1.5-pro-latest\n",
            "models/gemini-pro\n",
            "models/gemini-pro-vision\n"
          ]
        }
      ]
    },
    {
      "cell_type": "code",
      "source": [
        "generation_config = {\n",
        "  \"candidate_count\": 1,\n",
        "  \"temperature\": 0.5,\n",
        "}"
      ],
      "metadata": {
        "id": "uJ9FULp_Et6M"
      },
      "execution_count": null,
      "outputs": []
    },
    {
      "cell_type": "code",
      "source": [
        "safety_settings={\n",
        "    'HATE': 'BLOCK_NONE',\n",
        "    'HARASSMENT': 'BLOCK_NONE',\n",
        "    'SEXUAL' : 'BLOCK_NONE',\n",
        "    'DANGEROUS' : 'BLOCK_NONE'\n",
        "    }"
      ],
      "metadata": {
        "id": "aqrElvrjHrS-"
      },
      "execution_count": null,
      "outputs": []
    },
    {
      "cell_type": "markdown",
      "source": [
        "Iniciando o modelo"
      ],
      "metadata": {
        "id": "huUVvk77JoRH"
      }
    },
    {
      "cell_type": "code",
      "source": [
        "model = genai.GenerativeModel(model_name='gemini-1.0-pro',\n",
        "                                  generation_config=generation_config,\n",
        "                                  safety_settings=safety_settings,)"
      ],
      "metadata": {
        "id": "lEBWhF1TJfFe"
      },
      "execution_count": null,
      "outputs": []
    },
    {
      "cell_type": "markdown",
      "source": [
        "Hora de Treinar"
      ],
      "metadata": {
        "id": "Qt0RqGTu2fbR"
      }
    },
    {
      "cell_type": "code",
      "source": [
        "response = model.generate_content('Vamos aprender conteúdo sobre IA. me de  sugestões.')\n",
        "print(response.text)"
      ],
      "metadata": {
        "colab": {
          "base_uri": "https://localhost:8080/",
          "height": 922
        },
        "id": "08ydXSA-2d2l",
        "outputId": "834848f3-4ebf-4120-a507-0c0015860fef"
      },
      "execution_count": null,
      "outputs": [
        {
          "output_type": "stream",
          "name": "stdout",
          "text": [
            "**Conceitos Fundamentais**\n",
            "\n",
            "* Aprendizado de máquina\n",
            "* Redes neurais\n",
            "* Aprendizado profundo\n",
            "* Processamento de linguagem natural\n",
            "* Visão computacional\n",
            "\n",
            "**Tipos de IA**\n",
            "\n",
            "* IA estreita (ANI)\n",
            "* IA geral (AGI)\n",
            "* Superinteligência artificial (ASI)\n",
            "\n",
            "**Aplicações da IA**\n",
            "\n",
            "* Reconhecimento de imagem\n",
            "* Reconhecimento de fala\n",
            "* Tradução automática\n",
            "* Carros autônomos\n",
            "* Diagnóstico médico\n",
            "\n",
            "**Ética e Implicações Sociais**\n",
            "\n",
            "* Viés na IA\n",
            "* Privacidade e segurança\n",
            "* Desemprego tecnológico\n",
            "* Regulamentação da IA\n",
            "\n",
            "**Recursos de Aprendizagem**\n",
            "\n",
            "* **Cursos online:** Coursera, edX, Udacity\n",
            "* **Livros:** \"Inteligência Artificial: Uma Abordagem Moderna\" por Stuart Russell e Peter Norvig, \"Aprendizado Profundo\" por Ian Goodfellow, Yoshua Bengio e Aaron Courville\n",
            "* **Artigos de pesquisa:** arXiv, IEEE Xplore\n",
            "* **Conferências e workshops:** NeurIPS, ICML, CVPR\n",
            "* **Comunidades online:** Reddit (r/artificial), Discord (servidores de IA)\n",
            "\n",
            "**Ferramentas e Bibliotecas**\n",
            "\n",
            "* TensorFlow\n",
            "* PyTorch\n",
            "* Keras\n",
            "* Scikit-learn\n",
            "* NLTK\n",
            "\n",
            "**Tendências e Avanços**\n",
            "\n",
            "* IA generativa (por exemplo, GPT-3)\n",
            "* Aprendizado por reforço\n",
            "* IA quântica\n",
            "* IA distribuída\n"
          ]
        }
      ]
    },
    {
      "cell_type": "markdown",
      "source": [
        "# **Agora que vou começar a fazer o ChatBot**"
      ],
      "metadata": {
        "id": "gBk1j4-f256r"
      }
    },
    {
      "cell_type": "code",
      "source": [
        "chat= model.start_chat(history=[])"
      ],
      "metadata": {
        "id": "cygwL6dx23n4"
      },
      "execution_count": null,
      "outputs": []
    },
    {
      "cell_type": "code",
      "source": [
        "prompt = input('Esperando prompt: ')\n",
        "#quando eu falar fim o Prompt ira parar\n",
        "while prompt != 'fim':\n",
        "  response = chat.send_message(prompt)\n",
        "  print('Resposta: ', response.text, '\\n')\n",
        "  prompt = input('Esperando Prompt:')"
      ],
      "metadata": {
        "colab": {
          "base_uri": "https://localhost:8080/",
          "height": 191
        },
        "id": "lhMzTgD33sPd",
        "outputId": "f02ed682-0046-4fc8-cf61-0d319ab89b97"
      },
      "execution_count": null,
      "outputs": [
        {
          "name": "stdout",
          "output_type": "stream",
          "text": [
            "Esperando prompt: qual a capital do Japão?\n",
            "Resposta:  Tóquio \n",
            "\n",
            "Esperando Prompt:qual a comida tipca?\n",
            "Resposta:  Sushi \n",
            "\n",
            "Esperando Prompt:terminar\n",
            "Resposta:  **Tóquio** é a capital do Japão e **Sushi** é sua comida típica. \n",
            "\n",
            "Esperando Prompt:fim\n"
          ]
        }
      ]
    },
    {
      "cell_type": "markdown",
      "source": [
        "Imprementando um visual melhorado para o Chat"
      ],
      "metadata": {
        "id": "U1yLQKNf6U85"
      }
    },
    {
      "cell_type": "code",
      "source": [
        "#Melhorando a visualização\n",
        "#Código disponível em https://ai.google.dev/tutorials/python_quickstart#import_packages\n",
        "import textwrap\n",
        "from IPython.display import display\n",
        "from IPython.display import Markdown\n",
        "\n",
        "def to_markdown(text):\n",
        "  text = text.replace('•', '  *')\n",
        "  return Markdown(textwrap.indent(text, '> ', predicate=lambda _: True))\n",
        "\n",
        "#Imprimindo o histórico\n",
        "for message in chat.history:\n",
        "  display(to_markdown(f'**{message.role}**: {message.parts[0].text}'))\n",
        "  print('-------------------------------------------')"
      ],
      "metadata": {
        "colab": {
          "base_uri": "https://localhost:8080/",
          "height": 393
        },
        "id": "2rZy-oBe5VUg",
        "outputId": "3ecbf940-3ab4-48f1-883b-a9e459bcae4c"
      },
      "execution_count": null,
      "outputs": [
        {
          "output_type": "display_data",
          "data": {
            "text/plain": [
              "<IPython.core.display.Markdown object>"
            ],
            "text/markdown": "> **user**: qual a capital do Japão?"
          },
          "metadata": {}
        },
        {
          "output_type": "stream",
          "name": "stdout",
          "text": [
            "-------------------------------------------\n"
          ]
        },
        {
          "output_type": "display_data",
          "data": {
            "text/plain": [
              "<IPython.core.display.Markdown object>"
            ],
            "text/markdown": "> **model**: Tóquio"
          },
          "metadata": {}
        },
        {
          "output_type": "stream",
          "name": "stdout",
          "text": [
            "-------------------------------------------\n"
          ]
        },
        {
          "output_type": "display_data",
          "data": {
            "text/plain": [
              "<IPython.core.display.Markdown object>"
            ],
            "text/markdown": "> **user**: qual a comida tipca?"
          },
          "metadata": {}
        },
        {
          "output_type": "stream",
          "name": "stdout",
          "text": [
            "-------------------------------------------\n"
          ]
        },
        {
          "output_type": "display_data",
          "data": {
            "text/plain": [
              "<IPython.core.display.Markdown object>"
            ],
            "text/markdown": "> **model**: Sushi"
          },
          "metadata": {}
        },
        {
          "output_type": "stream",
          "name": "stdout",
          "text": [
            "-------------------------------------------\n"
          ]
        },
        {
          "output_type": "display_data",
          "data": {
            "text/plain": [
              "<IPython.core.display.Markdown object>"
            ],
            "text/markdown": "> **user**: terminar"
          },
          "metadata": {}
        },
        {
          "output_type": "stream",
          "name": "stdout",
          "text": [
            "-------------------------------------------\n"
          ]
        },
        {
          "output_type": "display_data",
          "data": {
            "text/plain": [
              "<IPython.core.display.Markdown object>"
            ],
            "text/markdown": "> **model**: **Tóquio** é a capital do Japão e **Sushi** é sua comida típica."
          },
          "metadata": {}
        },
        {
          "output_type": "stream",
          "name": "stdout",
          "text": [
            "-------------------------------------------\n"
          ]
        }
      ]
    }
  ]
}